{
 "cells": [
  {
   "cell_type": "markdown",
   "metadata": {},
   "source": [
    "### Evotor Data Challenge<br>Kolos Maria"
   ]
  },
  {
   "cell_type": "code",
   "execution_count": 1,
   "metadata": {
    "collapsed": true
   },
   "outputs": [],
   "source": [
    "import pandas as pd\n",
    "import numpy as np"
   ]
  },
  {
   "cell_type": "markdown",
   "metadata": {},
   "source": [
    "Считываем данные"
   ]
  },
  {
   "cell_type": "code",
   "execution_count": 28,
   "metadata": {
    "collapsed": false
   },
   "outputs": [
    {
     "data": {
      "text/html": [
       "<div>\n",
       "<table border=\"1\" class=\"dataframe\">\n",
       "  <thead>\n",
       "    <tr style=\"text-align: right;\">\n",
       "      <th></th>\n",
       "      <th>NAME</th>\n",
       "      <th>GROUP_ID</th>\n",
       "      <th>id</th>\n",
       "    </tr>\n",
       "  </thead>\n",
       "  <tbody>\n",
       "    <tr>\n",
       "      <th>0</th>\n",
       "      <td>Пиво \"Жигулевское\" 0,5 л. св.</td>\n",
       "      <td>35</td>\n",
       "      <td>0</td>\n",
       "    </tr>\n",
       "    <tr>\n",
       "      <th>1</th>\n",
       "      <td>СОУС ТОМАТНЫЙ БУЗДЯК 670Г ТАТАРСКИЙ /8</td>\n",
       "      <td>6</td>\n",
       "      <td>1</td>\n",
       "    </tr>\n",
       "    <tr>\n",
       "      <th>2</th>\n",
       "      <td>Сигареты  Esse SS Exchange</td>\n",
       "      <td>7</td>\n",
       "      <td>2</td>\n",
       "    </tr>\n",
       "    <tr>\n",
       "      <th>3</th>\n",
       "      <td>Петрушка</td>\n",
       "      <td>6</td>\n",
       "      <td>3</td>\n",
       "    </tr>\n",
       "    <tr>\n",
       "      <th>4</th>\n",
       "      <td>пиво ягерь</td>\n",
       "      <td>35</td>\n",
       "      <td>4</td>\n",
       "    </tr>\n",
       "  </tbody>\n",
       "</table>\n",
       "</div>"
      ],
      "text/plain": [
       "                                     NAME  GROUP_ID  id\n",
       "0           Пиво \"Жигулевское\" 0,5 л. св.        35   0\n",
       "1  СОУС ТОМАТНЫЙ БУЗДЯК 670Г ТАТАРСКИЙ /8         6   1\n",
       "2              Сигареты  Esse SS Exchange         7   2\n",
       "3                                Петрушка         6   3\n",
       "4                              пиво ягерь        35   4"
      ]
     },
     "execution_count": 28,
     "metadata": {},
     "output_type": "execute_result"
    }
   ],
   "source": [
    "train_df = pd.read_csv('data/evo_train.csv')\n",
    "train_df.head()"
   ]
  },
  {
   "cell_type": "code",
   "execution_count": 29,
   "metadata": {
    "collapsed": false
   },
   "outputs": [
    {
     "data": {
      "text/html": [
       "<div>\n",
       "<table border=\"1\" class=\"dataframe\">\n",
       "  <thead>\n",
       "    <tr style=\"text-align: right;\">\n",
       "      <th></th>\n",
       "      <th>NAME</th>\n",
       "      <th>id</th>\n",
       "    </tr>\n",
       "  </thead>\n",
       "  <tbody>\n",
       "    <tr>\n",
       "      <th>0</th>\n",
       "      <td>Пиво \"Рижское\" светлое 0,5л</td>\n",
       "      <td>0</td>\n",
       "    </tr>\n",
       "    <tr>\n",
       "      <th>1</th>\n",
       "      <td>плавленый сыр король сыров 80г</td>\n",
       "      <td>1</td>\n",
       "    </tr>\n",
       "    <tr>\n",
       "      <th>2</th>\n",
       "      <td>заказ имл 7500342101814</td>\n",
       "      <td>2</td>\n",
       "    </tr>\n",
       "    <tr>\n",
       "      <th>3</th>\n",
       "      <td>Мерриес трусики М58</td>\n",
       "      <td>3</td>\n",
       "    </tr>\n",
       "    <tr>\n",
       "      <th>4</th>\n",
       "      <td>лупа канц мал</td>\n",
       "      <td>4</td>\n",
       "    </tr>\n",
       "  </tbody>\n",
       "</table>\n",
       "</div>"
      ],
      "text/plain": [
       "                             NAME  id\n",
       "0     Пиво \"Рижское\" светлое 0,5л   0\n",
       "1  плавленый сыр король сыров 80г   1\n",
       "2         заказ имл 7500342101814   2\n",
       "3             Мерриес трусики М58   3\n",
       "4                  лупа канц мал    4"
      ]
     },
     "execution_count": 29,
     "metadata": {},
     "output_type": "execute_result"
    }
   ],
   "source": [
    "test_df = pd.read_csv('data/evo_test.csv')\n",
    "test_df.head()"
   ]
  },
  {
   "cell_type": "code",
   "execution_count": 30,
   "metadata": {
    "collapsed": false
   },
   "outputs": [],
   "source": [
    "pd.options.mode.chained_assignment = None\n",
    "from copy import deepcopy\n",
    "from string import punctuation\n",
    "from random import shuffle\n",
    "\n",
    "import gensim\n",
    "from gensim.models.word2vec import Word2Vec # the word2vec model gensim class\n",
    "from gensim.models.doc2vec import Doc2Vec\n",
    "LabeledSentence = gensim.models.doc2vec.LabeledSentence # we'll talk about this down below\n",
    "\n",
    "from tqdm import tqdm\n",
    "tqdm.pandas(desc=\"progress-bar\")\n",
    "\n",
    "from nltk.tokenize import TweetTokenizer # a tweet tokenizer from nltk.\n",
    "tokenizer = TweetTokenizer()\n",
    "\n",
    "from sklearn.cross_validation import train_test_split\n",
    "from sklearn.feature_extraction.text import TfidfVectorizer"
   ]
  },
  {
   "cell_type": "code",
   "execution_count": 31,
   "metadata": {
    "collapsed": true
   },
   "outputs": [],
   "source": [
    "from stop_words import get_stop_words\n",
    "\n",
    "stop_words=get_stop_words('ru')\n",
    "symbols = [i for i in \"абвгдеёжзийклмнопрстуфхцчшщъыьэюя\"]\n",
    "sw=stop_words+symbols+['ооо','кг','мг','мл','гр','мм','см','дм','шт']\n",
    "sw=set(sw)"
   ]
  },
  {
   "cell_type": "code",
   "execution_count": 32,
   "metadata": {
    "collapsed": true
   },
   "outputs": [],
   "source": [
    "import re\n",
    "pattern=r'\\b\\d+\\b'\n",
    "only_letters='[^\\W\\d_]*'\n",
    "to_be_removed = \".,:!_=><&«»?()//\\\\;\\\"\\*-\"\n",
    "def clear_text(line):\n",
    "    for c in to_be_removed:\n",
    "        line = line.replace(c, ' ')\n",
    "    #line=re.sub(r\"(\\w)([А-Я])\", r\"\\1 \\2\", line)\n",
    "    raw_words=re.findall(only_letters, line)#r\"[\\w']+\"\n",
    "    words=[]\n",
    "    '''for word in raw_words:\n",
    "        w=''.join(c for c in word if c.isalpha())\n",
    "        words.append(w)'''\n",
    "    '''raw_numbers=re.findall(pattern, line)\n",
    "    numbers=[]\n",
    "    for num in raw_numbers:\n",
    "        numbers+=text_number(num)'''\n",
    "    res = ' '.join(i for i in raw_words)#+' '.join(j for j in numbers)\n",
    "    return res\n",
    "\n",
    "def tokenize(text):\n",
    "    #buf = ''.join(ch for ch in text)# if# ch not in exclude)\n",
    "    text= clear_text(text)\n",
    "    tokens = text.lower().split()   \n",
    "        \n",
    "    return tokens\n",
    "def postprocess(data, n=1000000):\n",
    "    data['tokens'] = data['NAME'].progress_map(tokenize)  ## progress_map is a variant of the map function plus a progress bar. Handy to monitor DataFrame creations.\n",
    "    data = data[data.tokens != 'NC']\n",
    "    data.reset_index(inplace=True)\n",
    "    data.drop('index', inplace=True, axis=1)\n",
    "    return data\n"
   ]
  },
  {
   "cell_type": "markdown",
   "metadata": {},
   "source": [
    "### Предобработка"
   ]
  },
  {
   "cell_type": "markdown",
   "metadata": {},
   "source": [
    "В ходе экспериментов со стеммингом и регулярными выражениями обработка текста была сведена к минимуму (нижний регистр, очистка от пунктуации, сплит по пробелам), так как именно этот результат давал большую точность"
   ]
  },
  {
   "cell_type": "code",
   "execution_count": 33,
   "metadata": {
    "collapsed": false
   },
   "outputs": [
    {
     "name": "stderr",
     "output_type": "stream",
     "text": [
      "progress-bar: 100%|███████████████████████████████████████████████████████████| 55860/55860 [00:01<00:00, 40912.66it/s]\n"
     ]
    },
    {
     "data": {
      "text/html": [
       "<div>\n",
       "<table border=\"1\" class=\"dataframe\">\n",
       "  <thead>\n",
       "    <tr style=\"text-align: right;\">\n",
       "      <th></th>\n",
       "      <th>NAME</th>\n",
       "      <th>GROUP_ID</th>\n",
       "      <th>id</th>\n",
       "      <th>tokens</th>\n",
       "    </tr>\n",
       "  </thead>\n",
       "  <tbody>\n",
       "    <tr>\n",
       "      <th>55855</th>\n",
       "      <td>Водка \"ЦАРСКАЯ ОРИГИНАЛЬНАЯ\" 0,5</td>\n",
       "      <td>34</td>\n",
       "      <td>55855</td>\n",
       "      <td>[водка, царская, оригинальная]</td>\n",
       "    </tr>\n",
       "    <tr>\n",
       "      <th>55856</th>\n",
       "      <td>Сигареты More BY LD BLUE  25_</td>\n",
       "      <td>7</td>\n",
       "      <td>55856</td>\n",
       "      <td>[сигареты, more, by, ld, blue]</td>\n",
       "    </tr>\n",
       "    <tr>\n",
       "      <th>55857</th>\n",
       "      <td>Q10  Крем-экстра питание д/лица д/сухой и очен...</td>\n",
       "      <td>14</td>\n",
       "      <td>55857</td>\n",
       "      <td>[q, крем, экстра, питание, д, лица, д, сухой, ...</td>\n",
       "    </tr>\n",
       "    <tr>\n",
       "      <th>55858</th>\n",
       "      <td>winston XStyle</td>\n",
       "      <td>7</td>\n",
       "      <td>55858</td>\n",
       "      <td>[winston, xstyle]</td>\n",
       "    </tr>\n",
       "    <tr>\n",
       "      <th>55859</th>\n",
       "      <td>Игрушка Hasbro Star Wars фигурка Кайло Рена</td>\n",
       "      <td>26</td>\n",
       "      <td>55859</td>\n",
       "      <td>[игрушка, hasbro, star, wars, фигурка, кайло, ...</td>\n",
       "    </tr>\n",
       "  </tbody>\n",
       "</table>\n",
       "</div>"
      ],
      "text/plain": [
       "                                                    NAME  GROUP_ID     id  \\\n",
       "55855                   Водка \"ЦАРСКАЯ ОРИГИНАЛЬНАЯ\" 0,5        34  55855   \n",
       "55856                      Сигареты More BY LD BLUE  25_         7  55856   \n",
       "55857  Q10  Крем-экстра питание д/лица д/сухой и очен...        14  55857   \n",
       "55858                                    winston XStyle          7  55858   \n",
       "55859        Игрушка Hasbro Star Wars фигурка Кайло Рена        26  55859   \n",
       "\n",
       "                                                  tokens  \n",
       "55855                     [водка, царская, оригинальная]  \n",
       "55856                     [сигареты, more, by, ld, blue]  \n",
       "55857  [q, крем, экстра, питание, д, лица, д, сухой, ...  \n",
       "55858                                  [winston, xstyle]  \n",
       "55859  [игрушка, hasbro, star, wars, фигурка, кайло, ...  "
      ]
     },
     "execution_count": 33,
     "metadata": {},
     "output_type": "execute_result"
    }
   ],
   "source": [
    "train_df = postprocess(train_df)\n",
    "train_df.tail()"
   ]
  },
  {
   "cell_type": "code",
   "execution_count": 34,
   "metadata": {
    "collapsed": false
   },
   "outputs": [
    {
     "name": "stderr",
     "output_type": "stream",
     "text": [
      "progress-bar: 100%|███████████████████████████████████████████████████████████| 37240/37240 [00:00<00:00, 45718.57it/s]\n"
     ]
    },
    {
     "data": {
      "text/html": [
       "<div>\n",
       "<table border=\"1\" class=\"dataframe\">\n",
       "  <thead>\n",
       "    <tr style=\"text-align: right;\">\n",
       "      <th></th>\n",
       "      <th>NAME</th>\n",
       "      <th>id</th>\n",
       "      <th>tokens</th>\n",
       "    </tr>\n",
       "  </thead>\n",
       "  <tbody>\n",
       "    <tr>\n",
       "      <th>37235</th>\n",
       "      <td>Горшок торфяной 50 *50  12 ячеек</td>\n",
       "      <td>37235</td>\n",
       "      <td>[горшок, торфяной, ячеек]</td>\n",
       "    </tr>\n",
       "    <tr>\n",
       "      <th>37236</th>\n",
       "      <td>Бюстгальтер 66071 Aveline р90D жасмин</td>\n",
       "      <td>37236</td>\n",
       "      <td>[бюстгальтер, aveline, р, d, жасмин]</td>\n",
       "    </tr>\n",
       "    <tr>\n",
       "      <th>37237</th>\n",
       "      <td>52-1067 Ложка чайная 'Юрий'</td>\n",
       "      <td>37237</td>\n",
       "      <td>[ложка, чайная, юрий]</td>\n",
       "    </tr>\n",
       "    <tr>\n",
       "      <th>37238</th>\n",
       "      <td>Масло сливочное традиционное 82. 5% Из Деревеньки</td>\n",
       "      <td>37238</td>\n",
       "      <td>[масло, сливочное, традиционное, из, деревеньки]</td>\n",
       "    </tr>\n",
       "    <tr>\n",
       "      <th>37239</th>\n",
       "      <td>КОНФЕТА CHOCO FRUITS СОК ВИШНИ И ШОКОЛАД / ЖИВ...</td>\n",
       "      <td>37239</td>\n",
       "      <td>[конфета, choco, fruits, сок, вишни, и, шокола...</td>\n",
       "    </tr>\n",
       "  </tbody>\n",
       "</table>\n",
       "</div>"
      ],
      "text/plain": [
       "                                                    NAME     id  \\\n",
       "37235                   Горшок торфяной 50 *50  12 ячеек  37235   \n",
       "37236              Бюстгальтер 66071 Aveline р90D жасмин  37236   \n",
       "37237                        52-1067 Ложка чайная 'Юрий'  37237   \n",
       "37238  Масло сливочное традиционное 82. 5% Из Деревеньки  37238   \n",
       "37239  КОНФЕТА CHOCO FRUITS СОК ВИШНИ И ШОКОЛАД / ЖИВ...  37239   \n",
       "\n",
       "                                                  tokens  \n",
       "37235                          [горшок, торфяной, ячеек]  \n",
       "37236               [бюстгальтер, aveline, р, d, жасмин]  \n",
       "37237                              [ложка, чайная, юрий]  \n",
       "37238   [масло, сливочное, традиционное, из, деревеньки]  \n",
       "37239  [конфета, choco, fruits, сок, вишни, и, шокола...  "
      ]
     },
     "execution_count": 34,
     "metadata": {},
     "output_type": "execute_result"
    }
   ],
   "source": [
    "test_df = postprocess(test_df)\n",
    "test_df.tail()"
   ]
  },
  {
   "cell_type": "markdown",
   "metadata": {},
   "source": [
    "Объединяем токены в предложения для последующего подсчета tf idf матрицы"
   ]
  },
  {
   "cell_type": "code",
   "execution_count": 36,
   "metadata": {
    "collapsed": false
   },
   "outputs": [],
   "source": [
    "tfidf_corpus=[]\n",
    "vocab=list(train_df.tokens.values)+list(test_df.tokens.values)\n",
    "for line in vocab:\n",
    "    phrase=' '.join(x for x in line)\n",
    "    tfidf_corpus.append(phrase)"
   ]
  },
  {
   "cell_type": "code",
   "execution_count": 37,
   "metadata": {
    "collapsed": false
   },
   "outputs": [
    {
     "name": "stdout",
     "output_type": "stream",
     "text": [
      "vocab size : 48087\n"
     ]
    }
   ],
   "source": [
    "vectorizer = TfidfVectorizer()#максимальное количество слов, только униграммы\n",
    "matrix = vectorizer.fit_transform(tfidf_corpus)\n",
    "tfidf = dict(zip(vectorizer.get_feature_names(), vectorizer.idf_))\n",
    "print ('vocab size :', len(tfidf))"
   ]
  },
  {
   "cell_type": "code",
   "execution_count": 38,
   "metadata": {
    "collapsed": true
   },
   "outputs": [],
   "source": [
    "#обучающая и тестовая матрицы с признаками tf-idf\n",
    "mxtr=matrix[:len(train_df)]\n",
    "mxts=matrix[len(train_df):]"
   ]
  },
  {
   "cell_type": "code",
   "execution_count": 39,
   "metadata": {
    "collapsed": false
   },
   "outputs": [],
   "source": [
    "df=pd.DataFrame()\n",
    "df['y']=train_df.GROUP_ID.values\n",
    "X=matrix[list(df.index)]"
   ]
  },
  {
   "cell_type": "code",
   "execution_count": 40,
   "metadata": {
    "collapsed": false
   },
   "outputs": [
    {
     "data": {
      "text/html": [
       "<div>\n",
       "<table border=\"1\" class=\"dataframe\">\n",
       "  <thead>\n",
       "    <tr style=\"text-align: right;\">\n",
       "      <th></th>\n",
       "      <th>y</th>\n",
       "    </tr>\n",
       "  </thead>\n",
       "  <tbody>\n",
       "    <tr>\n",
       "      <th>0</th>\n",
       "      <td>35</td>\n",
       "    </tr>\n",
       "    <tr>\n",
       "      <th>1</th>\n",
       "      <td>6</td>\n",
       "    </tr>\n",
       "    <tr>\n",
       "      <th>2</th>\n",
       "      <td>7</td>\n",
       "    </tr>\n",
       "    <tr>\n",
       "      <th>3</th>\n",
       "      <td>6</td>\n",
       "    </tr>\n",
       "    <tr>\n",
       "      <th>4</th>\n",
       "      <td>35</td>\n",
       "    </tr>\n",
       "  </tbody>\n",
       "</table>\n",
       "</div>"
      ],
      "text/plain": [
       "    y\n",
       "0  35\n",
       "1   6\n",
       "2   7\n",
       "3   6\n",
       "4  35"
      ]
     },
     "execution_count": 40,
     "metadata": {},
     "output_type": "execute_result"
    }
   ],
   "source": [
    "df.head()"
   ]
  },
  {
   "cell_type": "markdown",
   "metadata": {},
   "source": [
    "### Стекинг"
   ]
  },
  {
   "cell_type": "markdown",
   "metadata": {},
   "source": [
    "Далее проведем стекинг базовых моделей: LinearSVC, RidgeClassifier и MultinominalNB"
   ]
  },
  {
   "cell_type": "code",
   "execution_count": 41,
   "metadata": {
    "collapsed": true
   },
   "outputs": [],
   "source": [
    "def stack(clf,df,feat_name,k_folds=3):\n",
    "    folds=np.split(df,k_folds)\n",
    "    for i in range(k_folds):\n",
    "        print(i)\n",
    "        test=folds[i]\n",
    "        fold_ind=[i for i in test.index]\n",
    "    \n",
    "        x_ind=np.array([q in fold_ind for q in df.index])\n",
    "        x_test=matrix[x_ind]\n",
    "        x_train=matrix[~x_ind]\n",
    "        train=pd.concat([folds[k] for k in range(k_folds) if k!=i])\n",
    "        clf.fit(x_train,train.y)\n",
    "        \n",
    "        df.loc[fold_ind,feat_name]=clf.predict(x_test)\n",
    "    return df"
   ]
  },
  {
   "cell_type": "markdown",
   "metadata": {},
   "source": [
    "Методы SVM хороши тем, что решают задачу, имеющую единственное решение, что обеспечивает его оптимальность. Кроме того, линейный SVC хорошо работает на тектовых данных из-за высокой размерности "
   ]
  },
  {
   "cell_type": "code",
   "execution_count": 42,
   "metadata": {
    "collapsed": false
   },
   "outputs": [],
   "source": [
    "from sklearn.metrics import accuracy_score\n",
    "from sklearn.svm import LinearSVC\n",
    "\n",
    "svc=LinearSVC(C=1)\n",
    "svc.fit(mxtr,df.y)\n",
    "pred_svc=svc.predict(mxts)"
   ]
  },
  {
   "cell_type": "code",
   "execution_count": 43,
   "metadata": {
    "collapsed": false
   },
   "outputs": [
    {
     "name": "stdout",
     "output_type": "stream",
     "text": [
      "0\n",
      "1\n",
      "2\n"
     ]
    }
   ],
   "source": [
    "df=stack(svc,df,'svc')"
   ]
  },
  {
   "cell_type": "markdown",
   "metadata": {},
   "source": [
    "Бинаризуем слова для дальнейшего использования метода наивного Байеса"
   ]
  },
  {
   "cell_type": "code",
   "execution_count": 44,
   "metadata": {
    "collapsed": false
   },
   "outputs": [],
   "source": [
    "from sklearn.feature_extraction.text import CountVectorizer\n",
    "\n",
    "cv=CountVectorizer()\n",
    "\n",
    "vmatrix=cv.fit_transform(tfidf_corpus)"
   ]
  },
  {
   "cell_type": "code",
   "execution_count": 45,
   "metadata": {
    "collapsed": false
   },
   "outputs": [],
   "source": [
    "#тестовая и обучающая матрицы\n",
    "vmxtr=vmatrix[:len(df)]\n",
    "vmxts=vmatrix[len(df):]"
   ]
  },
  {
   "cell_type": "markdown",
   "metadata": {},
   "source": [
    "Наивный байесовский классификатор оперирует с вероятностями признаков. Ключевое значение здесь играет использование метода максимального правдоподобия, который эффективно работает на текстовых данных."
   ]
  },
  {
   "cell_type": "code",
   "execution_count": 47,
   "metadata": {
    "collapsed": false
   },
   "outputs": [],
   "source": [
    "from sklearn.naive_bayes import MultinomialNB\n",
    "\n",
    "mnb=MultinomialNB(alpha=0.11)\n",
    "mnb.fit(vmxtr,df.y)\n",
    "pred_mnb=mnb.predict(vmxts)"
   ]
  },
  {
   "cell_type": "code",
   "execution_count": 48,
   "metadata": {
    "collapsed": false
   },
   "outputs": [
    {
     "name": "stdout",
     "output_type": "stream",
     "text": [
      "0\n",
      "1\n",
      "2\n"
     ]
    }
   ],
   "source": [
    "df=stack(mnb,df,'mnb')"
   ]
  },
  {
   "cell_type": "markdown",
   "metadata": {},
   "source": [
    "RidgeClassifier - еще один линейный метод, использущий l2-регуляризацию. Хорошо работает на данных с высокой размерностью"
   ]
  },
  {
   "cell_type": "code",
   "execution_count": 49,
   "metadata": {
    "collapsed": false
   },
   "outputs": [],
   "source": [
    "from sklearn.linear_model import RidgeClassifier\n",
    "\n",
    "\n",
    "rc=RidgeClassifier(alpha=0.67)\n",
    "rc.fit(mxtr,df.y)\n",
    "pred_rc=rc.predict(mxts)\n",
    "#print(accuracy_score(test_y,pred_rc))"
   ]
  },
  {
   "cell_type": "code",
   "execution_count": 50,
   "metadata": {
    "collapsed": false
   },
   "outputs": [
    {
     "name": "stdout",
     "output_type": "stream",
     "text": [
      "0\n",
      "1\n",
      "2\n"
     ]
    }
   ],
   "source": [
    "df=stack(rc,df,'rc')"
   ]
  },
  {
   "cell_type": "code",
   "execution_count": 51,
   "metadata": {
    "collapsed": false
   },
   "outputs": [
    {
     "data": {
      "text/html": [
       "<div>\n",
       "<table border=\"1\" class=\"dataframe\">\n",
       "  <thead>\n",
       "    <tr style=\"text-align: right;\">\n",
       "      <th></th>\n",
       "      <th>y</th>\n",
       "      <th>svc</th>\n",
       "      <th>mnb</th>\n",
       "      <th>rc</th>\n",
       "    </tr>\n",
       "  </thead>\n",
       "  <tbody>\n",
       "    <tr>\n",
       "      <th>0</th>\n",
       "      <td>35</td>\n",
       "      <td>35.0</td>\n",
       "      <td>35.0</td>\n",
       "      <td>35.0</td>\n",
       "    </tr>\n",
       "    <tr>\n",
       "      <th>1</th>\n",
       "      <td>6</td>\n",
       "      <td>6.0</td>\n",
       "      <td>6.0</td>\n",
       "      <td>6.0</td>\n",
       "    </tr>\n",
       "    <tr>\n",
       "      <th>2</th>\n",
       "      <td>7</td>\n",
       "      <td>7.0</td>\n",
       "      <td>7.0</td>\n",
       "      <td>7.0</td>\n",
       "    </tr>\n",
       "    <tr>\n",
       "      <th>3</th>\n",
       "      <td>6</td>\n",
       "      <td>30.0</td>\n",
       "      <td>30.0</td>\n",
       "      <td>30.0</td>\n",
       "    </tr>\n",
       "    <tr>\n",
       "      <th>4</th>\n",
       "      <td>35</td>\n",
       "      <td>35.0</td>\n",
       "      <td>35.0</td>\n",
       "      <td>35.0</td>\n",
       "    </tr>\n",
       "  </tbody>\n",
       "</table>\n",
       "</div>"
      ],
      "text/plain": [
       "    y   svc   mnb    rc\n",
       "0  35  35.0  35.0  35.0\n",
       "1   6   6.0   6.0   6.0\n",
       "2   7   7.0   7.0   7.0\n",
       "3   6  30.0  30.0  30.0\n",
       "4  35  35.0  35.0  35.0"
      ]
     },
     "execution_count": 51,
     "metadata": {},
     "output_type": "execute_result"
    }
   ],
   "source": [
    "df.head()"
   ]
  },
  {
   "cell_type": "code",
   "execution_count": 52,
   "metadata": {
    "collapsed": false
   },
   "outputs": [
    {
     "data": {
      "text/html": [
       "<div>\n",
       "<table border=\"1\" class=\"dataframe\">\n",
       "  <thead>\n",
       "    <tr style=\"text-align: right;\">\n",
       "      <th></th>\n",
       "      <th>svc</th>\n",
       "      <th>mnb</th>\n",
       "      <th>rc</th>\n",
       "    </tr>\n",
       "  </thead>\n",
       "  <tbody>\n",
       "    <tr>\n",
       "      <th>0</th>\n",
       "      <td>35</td>\n",
       "      <td>35</td>\n",
       "      <td>35</td>\n",
       "    </tr>\n",
       "    <tr>\n",
       "      <th>1</th>\n",
       "      <td>6</td>\n",
       "      <td>6</td>\n",
       "      <td>6</td>\n",
       "    </tr>\n",
       "    <tr>\n",
       "      <th>2</th>\n",
       "      <td>9</td>\n",
       "      <td>9</td>\n",
       "      <td>9</td>\n",
       "    </tr>\n",
       "    <tr>\n",
       "      <th>3</th>\n",
       "      <td>26</td>\n",
       "      <td>26</td>\n",
       "      <td>26</td>\n",
       "    </tr>\n",
       "    <tr>\n",
       "      <th>4</th>\n",
       "      <td>24</td>\n",
       "      <td>24</td>\n",
       "      <td>24</td>\n",
       "    </tr>\n",
       "  </tbody>\n",
       "</table>\n",
       "</div>"
      ],
      "text/plain": [
       "   svc  mnb  rc\n",
       "0   35   35  35\n",
       "1    6    6   6\n",
       "2    9    9   9\n",
       "3   26   26  26\n",
       "4   24   24  24"
      ]
     },
     "execution_count": 52,
     "metadata": {},
     "output_type": "execute_result"
    }
   ],
   "source": [
    "df_test_=pd.DataFrame()\n",
    "#df_test_['y']=test_y\n",
    "df_test_['svc']=list(pred_svc)\n",
    "df_test_['mnb']=list(pred_mnb)\n",
    "df_test_['rc']=list(pred_rc)\n",
    "df_test_.head()"
   ]
  },
  {
   "cell_type": "markdown",
   "metadata": {},
   "source": [
    "Объединение базовых моделей "
   ]
  },
  {
   "cell_type": "code",
   "execution_count": 53,
   "metadata": {
    "collapsed": true
   },
   "outputs": [],
   "source": [
    "from scipy.sparse import hstack\n",
    "\n",
    "xtrain=hstack([mxtr,df[['svc','mnb','rc']].values])\n",
    "xtest=hstack([mxts,df_test_[['svc','mnb','rc']].values])"
   ]
  },
  {
   "cell_type": "markdown",
   "metadata": {},
   "source": [
    "### Агрегация"
   ]
  },
  {
   "cell_type": "markdown",
   "metadata": {},
   "source": [
    "В качестве модели второго уровня используется xgboost. Градиентный бустинг на деревьях был выбран в качестве аггрегирующего метода поверх базовых классификаторов за счет его способности минимизации ошибок и устойчивости к переобучению. xgboost - самая эффективная и высокопроизводительная реализация градиентого бустинга."
   ]
  },
  {
   "cell_type": "code",
   "execution_count": 54,
   "metadata": {
    "collapsed": false
   },
   "outputs": [],
   "source": [
    "from xgboost import XGBClassifier\n",
    "\n",
    "xgb=XGBClassifier(gamma=0.15,n_estimators=400)\n",
    "xgb.fit(xtrain, df.y)\n",
    "predicted=xgb.predict(xtest)"
   ]
  },
  {
   "cell_type": "markdown",
   "metadata": {},
   "source": [
    "Сохранение решения в файл"
   ]
  },
  {
   "cell_type": "code",
   "execution_count": 57,
   "metadata": {
    "collapsed": true
   },
   "outputs": [],
   "source": [
    "#id,GROUP_ID\n",
    "text_file = open(\"evooutput2.csv\", \"w\")\n",
    "text_file.write(\"id,GROUP_ID\\n\")\n",
    "for i in range(len(predicted)):\n",
    "    text_file.write(str(test_df.loc[i].id)+','+str(predicted[i])+'\\n')\n",
    "text_file.close()"
   ]
  },
  {
   "cell_type": "code",
   "execution_count": null,
   "metadata": {
    "collapsed": true
   },
   "outputs": [],
   "source": []
  }
 ],
 "metadata": {
  "anaconda-cloud": {},
  "kernelspec": {
   "display_name": "Python [conda root]",
   "language": "python",
   "name": "conda-root-py"
  },
  "language_info": {
   "codemirror_mode": {
    "name": "ipython",
    "version": 3
   },
   "file_extension": ".py",
   "mimetype": "text/x-python",
   "name": "python",
   "nbconvert_exporter": "python",
   "pygments_lexer": "ipython3",
   "version": "3.5.2"
  }
 },
 "nbformat": 4,
 "nbformat_minor": 1
}
